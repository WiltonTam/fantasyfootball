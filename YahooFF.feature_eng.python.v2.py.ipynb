{
    "nbformat_minor": 1, 
    "cells": [
        {
            "source": "## Feature Engineering", 
            "cell_type": "markdown", 
            "metadata": {
                "collapsed": true
            }
        }, 
        {
            "source": "### Feature transformation", 
            "cell_type": "markdown", 
            "metadata": {}
        }, 
        {
            "source": "The following none exhaustive list gives you some guidelines for feature transformation:\n\n\u00b7 Imputing Some algorithms are very sensitive to missing values. Therefore, imputing allows for filling of empty fields based on its value distribution \n<br><font color=blue>I have chosen filter out missing values</font>\n\n\u00b7 Imputed time-series quantization Time series often contain streams with measurements at different timestamps. Therefore, it is beneficial to quantize measurements to a common \u201cheart beat\u201d and impute the corresponding values. This can be done by sampling from the source time series distributions on the respective quantized time steps\n<br><font color=blue>All season measurements for for the year.  By convention, I choose the start of the calendar year to represent the season that starts in Sept of that year (and end the Feb of the next year)</font>\n\n\u00b7 Scaling / Normalizing / Centering Some algorithms are very sensitive differences in value ranges for individual fields. Therefore, it is best practice to center data around zero and scale values to a standard deviation of one\n<br><font color=blue>I normalize the variables that have been selected to between 0 and 1</font>\n\n\u00b7 Filtering Sometimes imputing values doesn\u2019t perform well, therefore deletion of low quality records is a better strategy\n<br><font color=blue>I have chosen filter out missing values</font>\n\n\u00b7 Discretizing Continuous fields might confuse the model, e.g. a discrete set of age ranges sometimes performs better than continuous values, especially on smaller amounts of data and with simpler models \n<br><font color=blue>Currently, all continuos fields are left as they are.  Will review the model performance to see if grouping will work better</font>", 
            "cell_type": "markdown", 
            "metadata": {}
        }, 
        {
            "execution_count": 1, 
            "cell_type": "code", 
            "metadata": {}, 
            "outputs": [], 
            "source": "import pandas as pd\nimport numpy as np"
        }, 
        {
            "execution_count": 2, 
            "cell_type": "code", 
            "metadata": {}, 
            "outputs": [], 
            "source": "all_df = pd.read_csv(r'pfr_nfl.csv')"
        }, 
        {
            "source": "### Feature Creation", 
            "cell_type": "markdown", 
            "metadata": {}
        }, 
        {
            "source": "The following none exhaustive list gives you some guidelines for feature creation:\n\n\u00b7 One-hot-encoding Categorical integer features should be transformed into \u201cone-hot\u201d vectors. In relational terms this results in addition of additional columns \u2013 one columns for each distinct category\n\n\u00b7 Time-to-Frequency transformation Time-series (and sometimes also sequence data) is recorded in the time domain but can easily transformed into the frequency domain e.g. using FFT (Fast Fourier Transformation)\n\n\u00b7 Month-From-Date Creating an additional feature containing the month independent from data captures seasonal aspects. Sometimes further discretization in to quarters helps as well\n\n\u00b7 Aggregate-on-Target Simply aggregating fields the target variable (or even other fields) can improve performance, e.g. count number of data points per ZIP code or take the median of all values by geographical region", 
            "cell_type": "markdown", 
            "metadata": {}
        }, 
        {
            "execution_count": 3, 
            "cell_type": "code", 
            "metadata": {}, 
            "outputs": [], 
            "source": "# use passing / rushing / receiving attempts as a feature, averaged over past 3y\nall_df['3Y-Passing-Att'] = all_df.groupby('Player')['Passing-Att'].apply(lambda x: x.rolling(3).mean())\nall_df['3Y-Rushing-Att'] = all_df.groupby('Player')['Rushing-Att'].apply(lambda x: x.rolling(3).mean())\nall_df['3Y-Receiving-Tgt'] = all_df.groupby('Player')['Receiving-Tgt'].apply(lambda x: x.rolling(3).mean())\nall_df[' '] = all_df.groupby('Player')['Fantasy-FantPt'].apply(lambda x: x.rolling(3).mean())\n\n# strip out out the current year which is the label that the ML will try to predict\nall_df['3Y-Passing-Att'] = (all_df['3Y-Passing-Att']*3 - all_df['Passing-Att']) / 2\nall_df['3Y-Rushing-Att'] = (all_df['3Y-Rushing-Att']*3 - all_df['Rushing-Att']) / 2\nall_df['3Y-Receiving-Tgt'] = (all_df['3Y-Receiving-Tgt']*3 - all_df['Receiving-Tgt']) / 2\nall_df['3Y-Fantasy-FantPt'] = (all_df['3Y-Fantasy-FantPt']*3 - all_df['Fantasy-FantPt']) / 2"
        }, 
        {
            "source": "**Second iteration**\n\nHave added an additional feature for each player that is based on the number of points scored by that player in that season over the next highest scoring player.", 
            "cell_type": "markdown", 
            "metadata": {}
        }, 
        {
            "execution_count": 4, 
            "cell_type": "code", 
            "metadata": {}, 
            "outputs": [], 
            "source": "# player points over next highest points at same position in the same year\nall_df['FP_above_next_at_posn'] = all_df.groupby(['FantPos','Year'])['Fantasy-FantPt'].apply(lambda x: -x.diff().shift(-1))\n# 3 yr avg of that metric by player\nall_df['3Y-FP_over'] = all_df.groupby('Player')['FP_above_next_at_posn'].apply(lambda x: x.rolling(3).mean())"
        }, 
        {
            "source": "**Third iteration**\n\nAdd age going into season", 
            "cell_type": "markdown", 
            "metadata": {}
        }, 
        {
            "execution_count": 5, 
            "cell_type": "code", 
            "metadata": {}, 
            "outputs": [], 
            "source": "all_df['Age_into_season'] = all_df.groupby('Player')['Age'].apply(lambda x: x.rolling(3).mean())"
        }, 
        {
            "execution_count": 6, 
            "cell_type": "code", 
            "metadata": {}, 
            "outputs": [
                {
                    "execution_count": 6, 
                    "metadata": {}, 
                    "data": {
                        "text/html": "<div>\n<style scoped>\n    .dataframe tbody tr th:only-of-type {\n        vertical-align: middle;\n    }\n\n    .dataframe tbody tr th {\n        vertical-align: top;\n    }\n\n    .dataframe thead th {\n        text-align: right;\n    }\n</style>\n<table border=\"1\" class=\"dataframe\">\n  <thead>\n    <tr style=\"text-align: right;\">\n      <th></th>\n      <th>Unnamed: 0</th>\n      <th>Year</th>\n      <th>Accolades</th>\n      <th>Rk_x</th>\n      <th>Player</th>\n      <th>Tm</th>\n      <th>FantPos</th>\n      <th>Age</th>\n      <th>G_x</th>\n      <th>GS</th>\n      <th>...</th>\n      <th>FUM</th>\n      <th>Lost</th>\n      <th>TO</th>\n      <th>3Y-Passing-Att</th>\n      <th>3Y-Rushing-Att</th>\n      <th>3Y-Receiving-Tgt</th>\n      <th>3Y-Fantasy-FantPt</th>\n      <th>FP_above_next_at_posn</th>\n      <th>3Y-FP_over</th>\n      <th>Age_into_season</th>\n    </tr>\n  </thead>\n  <tbody>\n    <tr>\n      <th>2287</th>\n      <td>2287</td>\n      <td>2015</td>\n      <td>NaN</td>\n      <td>128</td>\n      <td>Drew Stanton</td>\n      <td>ARI</td>\n      <td>QB</td>\n      <td>30</td>\n      <td>9</td>\n      <td>8.0</td>\n      <td>...</td>\n      <td>23.0</td>\n      <td>11.0</td>\n      <td>9.0</td>\n      <td>179.5</td>\n      <td>21.5</td>\n      <td>0.0</td>\n      <td>77.0</td>\n      <td>5.0</td>\n      <td>5.333333</td>\n      <td>28.666667</td>\n    </tr>\n    <tr>\n      <th>1226</th>\n      <td>1226</td>\n      <td>2010</td>\n      <td>NaN</td>\n      <td>189</td>\n      <td>Correll Buckhalter</td>\n      <td>DEN</td>\n      <td>RB</td>\n      <td>32</td>\n      <td>15</td>\n      <td>0.0</td>\n      <td>...</td>\n      <td>29.0</td>\n      <td>15.0</td>\n      <td>-9.0</td>\n      <td>0.0</td>\n      <td>98.0</td>\n      <td>35.0</td>\n      <td>93.5</td>\n      <td>1.0</td>\n      <td>3.333333</td>\n      <td>31.000000</td>\n    </tr>\n    <tr>\n      <th>1758</th>\n      <td>1758</td>\n      <td>2013</td>\n      <td>NaN</td>\n      <td>59</td>\n      <td>Marvin Jones</td>\n      <td>CIN</td>\n      <td>WR</td>\n      <td>23</td>\n      <td>16</td>\n      <td>3.0</td>\n      <td>...</td>\n      <td>20.0</td>\n      <td>10.0</td>\n      <td>1.0</td>\n      <td>NaN</td>\n      <td>NaN</td>\n      <td>NaN</td>\n      <td>NaN</td>\n      <td>2.0</td>\n      <td>NaN</td>\n      <td>NaN</td>\n    </tr>\n    <tr>\n      <th>2743</th>\n      <td>2743</td>\n      <td>2017</td>\n      <td>NaN</td>\n      <td>131</td>\n      <td>C.J. Beathard</td>\n      <td>SF</td>\n      <td>QB</td>\n      <td>24</td>\n      <td>7</td>\n      <td>5.0</td>\n      <td>...</td>\n      <td>14.0</td>\n      <td>8.0</td>\n      <td>-3.0</td>\n      <td>NaN</td>\n      <td>NaN</td>\n      <td>NaN</td>\n      <td>NaN</td>\n      <td>2.0</td>\n      <td>NaN</td>\n      <td>NaN</td>\n    </tr>\n    <tr>\n      <th>1082</th>\n      <td>1082</td>\n      <td>2010</td>\n      <td>NaN</td>\n      <td>45</td>\n      <td>Santana Moss</td>\n      <td>WAS</td>\n      <td>WR</td>\n      <td>31</td>\n      <td>16</td>\n      <td>16.0</td>\n      <td>...</td>\n      <td>29.0</td>\n      <td>12.0</td>\n      <td>-4.0</td>\n      <td>0.0</td>\n      <td>1.5</td>\n      <td>129.0</td>\n      <td>126.0</td>\n      <td>3.0</td>\n      <td>2.333333</td>\n      <td>30.000000</td>\n    </tr>\n    <tr>\n      <th>2791</th>\n      <td>2791</td>\n      <td>2017</td>\n      <td>NaN</td>\n      <td>179</td>\n      <td>Brian Hoyer</td>\n      <td>2TM</td>\n      <td>QB</td>\n      <td>32</td>\n      <td>11</td>\n      <td>6.0</td>\n      <td>...</td>\n      <td>NaN</td>\n      <td>NaN</td>\n      <td>NaN</td>\n      <td>319.0</td>\n      <td>15.5</td>\n      <td>0.0</td>\n      <td>119.5</td>\n      <td>2.0</td>\n      <td>1.666667</td>\n      <td>30.666667</td>\n    </tr>\n    <tr>\n      <th>1317</th>\n      <td>1317</td>\n      <td>2011</td>\n      <td>NaN</td>\n      <td>60</td>\n      <td>Dustin Keller</td>\n      <td>NYJ</td>\n      <td>TE</td>\n      <td>27</td>\n      <td>16</td>\n      <td>12.0</td>\n      <td>...</td>\n      <td>25.0</td>\n      <td>16.0</td>\n      <td>-3.0</td>\n      <td>0.0</td>\n      <td>0.5</td>\n      <td>91.0</td>\n      <td>83.0</td>\n      <td>1.0</td>\n      <td>1.333333</td>\n      <td>26.000000</td>\n    </tr>\n    <tr>\n      <th>2362</th>\n      <td>2362</td>\n      <td>2015</td>\n      <td>NaN</td>\n      <td>203</td>\n      <td>Tavon Austin</td>\n      <td>LAR</td>\n      <td>WR</td>\n      <td>24</td>\n      <td>15</td>\n      <td>8.0</td>\n      <td>...</td>\n      <td>22.0</td>\n      <td>10.0</td>\n      <td>5.0</td>\n      <td>0.5</td>\n      <td>22.5</td>\n      <td>56.5</td>\n      <td>72.0</td>\n      <td>-0.0</td>\n      <td>1.666667</td>\n      <td>23.666667</td>\n    </tr>\n    <tr>\n      <th>136</th>\n      <td>136</td>\n      <td>2005</td>\n      <td>NaN</td>\n      <td>137</td>\n      <td>Marcus Robinson</td>\n      <td>MIN</td>\n      <td>WR</td>\n      <td>30</td>\n      <td>15</td>\n      <td>9.0</td>\n      <td>...</td>\n      <td>NaN</td>\n      <td>NaN</td>\n      <td>NaN</td>\n      <td>NaN</td>\n      <td>NaN</td>\n      <td>NaN</td>\n      <td>NaN</td>\n      <td>2.0</td>\n      <td>NaN</td>\n      <td>NaN</td>\n    </tr>\n    <tr>\n      <th>792</th>\n      <td>792</td>\n      <td>2008</td>\n      <td>NaN</td>\n      <td>177</td>\n      <td>Billy Miller</td>\n      <td>NO</td>\n      <td>TE</td>\n      <td>31</td>\n      <td>15</td>\n      <td>5.0</td>\n      <td>...</td>\n      <td>25.0</td>\n      <td>16.0</td>\n      <td>11.0</td>\n      <td>NaN</td>\n      <td>NaN</td>\n      <td>NaN</td>\n      <td>NaN</td>\n      <td>1.0</td>\n      <td>NaN</td>\n      <td>NaN</td>\n    </tr>\n    <tr>\n      <th>310</th>\n      <td>310</td>\n      <td>2006</td>\n      <td>NaN</td>\n      <td>108</td>\n      <td>Chris Henry</td>\n      <td>CIN</td>\n      <td>WR</td>\n      <td>23</td>\n      <td>13</td>\n      <td>4.0</td>\n      <td>...</td>\n      <td>NaN</td>\n      <td>NaN</td>\n      <td>NaN</td>\n      <td>NaN</td>\n      <td>NaN</td>\n      <td>NaN</td>\n      <td>NaN</td>\n      <td>1.0</td>\n      <td>NaN</td>\n      <td>NaN</td>\n    </tr>\n    <tr>\n      <th>849</th>\n      <td>849</td>\n      <td>2009</td>\n      <td>NaN</td>\n      <td>23</td>\n      <td>Fred Jackson</td>\n      <td>BUF</td>\n      <td>WR</td>\n      <td>28</td>\n      <td>16</td>\n      <td>11.0</td>\n      <td>...</td>\n      <td>24.0</td>\n      <td>11.0</td>\n      <td>3.0</td>\n      <td>NaN</td>\n      <td>NaN</td>\n      <td>NaN</td>\n      <td>NaN</td>\n      <td>-0.0</td>\n      <td>NaN</td>\n      <td>NaN</td>\n    </tr>\n    <tr>\n      <th>1623</th>\n      <td>1623</td>\n      <td>2012</td>\n      <td>NaN</td>\n      <td>139</td>\n      <td>Mike Tolbert</td>\n      <td>CAR</td>\n      <td>RB</td>\n      <td>27</td>\n      <td>16</td>\n      <td>5.0</td>\n      <td>...</td>\n      <td>22.0</td>\n      <td>10.0</td>\n      <td>1.0</td>\n      <td>0.0</td>\n      <td>151.5</td>\n      <td>54.0</td>\n      <td>157.5</td>\n      <td>4.0</td>\n      <td>2.333333</td>\n      <td>26.000000</td>\n    </tr>\n    <tr>\n      <th>1231</th>\n      <td>1231</td>\n      <td>2010</td>\n      <td>NaN</td>\n      <td>194</td>\n      <td>Derrick Ward</td>\n      <td>HOU</td>\n      <td>RB</td>\n      <td>30</td>\n      <td>16</td>\n      <td>0.0</td>\n      <td>...</td>\n      <td>15.0</td>\n      <td>6.0</td>\n      <td>0.0</td>\n      <td>0.0</td>\n      <td>148.0</td>\n      <td>39.5</td>\n      <td>113.5</td>\n      <td>3.0</td>\n      <td>3.000000</td>\n      <td>29.000000</td>\n    </tr>\n    <tr>\n      <th>2218</th>\n      <td>2218</td>\n      <td>2015</td>\n      <td>*</td>\n      <td>59</td>\n      <td>A.J. Green</td>\n      <td>CIN</td>\n      <td>WR</td>\n      <td>26</td>\n      <td>13</td>\n      <td>13.0</td>\n      <td>...</td>\n      <td>18.0</td>\n      <td>8.0</td>\n      <td>11.0</td>\n      <td>0.0</td>\n      <td>1.0</td>\n      <td>147.5</td>\n      <td>172.5</td>\n      <td>1.0</td>\n      <td>1.666667</td>\n      <td>25.666667</td>\n    </tr>\n    <tr>\n      <th>1129</th>\n      <td>1129</td>\n      <td>2010</td>\n      <td>NaN</td>\n      <td>92</td>\n      <td>Jon Kitna</td>\n      <td>DAL</td>\n      <td>QB</td>\n      <td>38</td>\n      <td>10</td>\n      <td>9.0</td>\n      <td>...</td>\n      <td>28.0</td>\n      <td>11.0</td>\n      <td>0.0</td>\n      <td>578.5</td>\n      <td>29.5</td>\n      <td>0.5</td>\n      <td>219.0</td>\n      <td>1.0</td>\n      <td>4.666667</td>\n      <td>35.666667</td>\n    </tr>\n    <tr>\n      <th>385</th>\n      <td>385</td>\n      <td>2006</td>\n      <td>NaN</td>\n      <td>183</td>\n      <td>Peerless Price</td>\n      <td>BUF</td>\n      <td>WR</td>\n      <td>30</td>\n      <td>16</td>\n      <td>15.0</td>\n      <td>...</td>\n      <td>NaN</td>\n      <td>NaN</td>\n      <td>NaN</td>\n      <td>NaN</td>\n      <td>NaN</td>\n      <td>NaN</td>\n      <td>NaN</td>\n      <td>1.0</td>\n      <td>NaN</td>\n      <td>NaN</td>\n    </tr>\n    <tr>\n      <th>2428</th>\n      <td>2428</td>\n      <td>2016</td>\n      <td>*</td>\n      <td>41</td>\n      <td>Dak Prescott</td>\n      <td>DAL</td>\n      <td>QB</td>\n      <td>23</td>\n      <td>16</td>\n      <td>16.0</td>\n      <td>...</td>\n      <td>22.0</td>\n      <td>9.0</td>\n      <td>5.0</td>\n      <td>NaN</td>\n      <td>NaN</td>\n      <td>NaN</td>\n      <td>NaN</td>\n      <td>11.0</td>\n      <td>NaN</td>\n      <td>NaN</td>\n    </tr>\n    <tr>\n      <th>2482</th>\n      <td>2482</td>\n      <td>2016</td>\n      <td>NaN</td>\n      <td>95</td>\n      <td>Ryan Fitzpatrick</td>\n      <td>NYJ</td>\n      <td>QB</td>\n      <td>34</td>\n      <td>14</td>\n      <td>11.0</td>\n      <td>...</td>\n      <td>24.0</td>\n      <td>9.0</td>\n      <td>-20.0</td>\n      <td>312.0</td>\n      <td>50.0</td>\n      <td>0.0</td>\n      <td>180.0</td>\n      <td>20.0</td>\n      <td>9.333333</td>\n      <td>32.666667</td>\n    </tr>\n    <tr>\n      <th>1700</th>\n      <td>1700</td>\n      <td>2013</td>\n      <td>*+</td>\n      <td>1</td>\n      <td>Jamaal Charles</td>\n      <td>KC</td>\n      <td>RB</td>\n      <td>27</td>\n      <td>15</td>\n      <td>15.0</td>\n      <td>...</td>\n      <td>21.0</td>\n      <td>10.0</td>\n      <td>18.0</td>\n      <td>0.0</td>\n      <td>257.5</td>\n      <td>56.5</td>\n      <td>223.5</td>\n      <td>29.0</td>\n      <td>13.000000</td>\n      <td>25.666667</td>\n    </tr>\n  </tbody>\n</table>\n<p>20 rows \u00d7 66 columns</p>\n</div>", 
                        "text/plain": "      Unnamed: 0  Year Accolades  Rk_x              Player   Tm FantPos  Age  \\\n2287        2287  2015       NaN   128        Drew Stanton  ARI      QB   30   \n1226        1226  2010       NaN   189  Correll Buckhalter  DEN      RB   32   \n1758        1758  2013       NaN    59        Marvin Jones  CIN      WR   23   \n2743        2743  2017       NaN   131       C.J. Beathard   SF      QB   24   \n1082        1082  2010       NaN    45        Santana Moss  WAS      WR   31   \n2791        2791  2017       NaN   179         Brian Hoyer  2TM      QB   32   \n1317        1317  2011       NaN    60       Dustin Keller  NYJ      TE   27   \n2362        2362  2015       NaN   203        Tavon Austin  LAR      WR   24   \n136          136  2005       NaN   137     Marcus Robinson  MIN      WR   30   \n792          792  2008       NaN   177        Billy Miller   NO      TE   31   \n310          310  2006       NaN   108         Chris Henry  CIN      WR   23   \n849          849  2009       NaN    23        Fred Jackson  BUF      WR   28   \n1623        1623  2012       NaN   139        Mike Tolbert  CAR      RB   27   \n1231        1231  2010       NaN   194        Derrick Ward  HOU      RB   30   \n2218        2218  2015         *    59          A.J. Green  CIN      WR   26   \n1129        1129  2010       NaN    92           Jon Kitna  DAL      QB   38   \n385          385  2006       NaN   183      Peerless Price  BUF      WR   30   \n2428        2428  2016         *    41        Dak Prescott  DAL      QB   23   \n2482        2482  2016       NaN    95    Ryan Fitzpatrick  NYJ      QB   34   \n1700        1700  2013        *+     1      Jamaal Charles   KC      RB   27   \n\n      G_x    GS       ...          FUM  Lost    TO  3Y-Passing-Att  \\\n2287    9   8.0       ...         23.0  11.0   9.0           179.5   \n1226   15   0.0       ...         29.0  15.0  -9.0             0.0   \n1758   16   3.0       ...         20.0  10.0   1.0             NaN   \n2743    7   5.0       ...         14.0   8.0  -3.0             NaN   \n1082   16  16.0       ...         29.0  12.0  -4.0             0.0   \n2791   11   6.0       ...          NaN   NaN   NaN           319.0   \n1317   16  12.0       ...         25.0  16.0  -3.0             0.0   \n2362   15   8.0       ...         22.0  10.0   5.0             0.5   \n136    15   9.0       ...          NaN   NaN   NaN             NaN   \n792    15   5.0       ...         25.0  16.0  11.0             NaN   \n310    13   4.0       ...          NaN   NaN   NaN             NaN   \n849    16  11.0       ...         24.0  11.0   3.0             NaN   \n1623   16   5.0       ...         22.0  10.0   1.0             0.0   \n1231   16   0.0       ...         15.0   6.0   0.0             0.0   \n2218   13  13.0       ...         18.0   8.0  11.0             0.0   \n1129   10   9.0       ...         28.0  11.0   0.0           578.5   \n385    16  15.0       ...          NaN   NaN   NaN             NaN   \n2428   16  16.0       ...         22.0   9.0   5.0             NaN   \n2482   14  11.0       ...         24.0   9.0 -20.0           312.0   \n1700   15  15.0       ...         21.0  10.0  18.0             0.0   \n\n      3Y-Rushing-Att  3Y-Receiving-Tgt  3Y-Fantasy-FantPt  \\\n2287            21.5               0.0               77.0   \n1226            98.0              35.0               93.5   \n1758             NaN               NaN                NaN   \n2743             NaN               NaN                NaN   \n1082             1.5             129.0              126.0   \n2791            15.5               0.0              119.5   \n1317             0.5              91.0               83.0   \n2362            22.5              56.5               72.0   \n136              NaN               NaN                NaN   \n792              NaN               NaN                NaN   \n310              NaN               NaN                NaN   \n849              NaN               NaN                NaN   \n1623           151.5              54.0              157.5   \n1231           148.0              39.5              113.5   \n2218             1.0             147.5              172.5   \n1129            29.5               0.5              219.0   \n385              NaN               NaN                NaN   \n2428             NaN               NaN                NaN   \n2482            50.0               0.0              180.0   \n1700           257.5              56.5              223.5   \n\n      FP_above_next_at_posn  3Y-FP_over  Age_into_season  \n2287                    5.0    5.333333        28.666667  \n1226                    1.0    3.333333        31.000000  \n1758                    2.0         NaN              NaN  \n2743                    2.0         NaN              NaN  \n1082                    3.0    2.333333        30.000000  \n2791                    2.0    1.666667        30.666667  \n1317                    1.0    1.333333        26.000000  \n2362                   -0.0    1.666667        23.666667  \n136                     2.0         NaN              NaN  \n792                     1.0         NaN              NaN  \n310                     1.0         NaN              NaN  \n849                    -0.0         NaN              NaN  \n1623                    4.0    2.333333        26.000000  \n1231                    3.0    3.000000        29.000000  \n2218                    1.0    1.666667        25.666667  \n1129                    1.0    4.666667        35.666667  \n385                     1.0         NaN              NaN  \n2428                   11.0         NaN              NaN  \n2482                   20.0    9.333333        32.666667  \n1700                   29.0   13.000000        25.666667  \n\n[20 rows x 66 columns]"
                    }, 
                    "output_type": "execute_result"
                }
            ], 
            "source": "all_df.sample(20)"
        }, 
        {
            "execution_count": 7, 
            "cell_type": "code", 
            "metadata": {}, 
            "outputs": [], 
            "source": "# use select team offensive stats as features, averaged over past 3y.\n# These indicate more plays and better quality (results) of the plays\n# These will capture the fact that individual performance is also tied into team performance\nall_df['3Y-Scrm Plys'] = all_df.groupby('Team')['Scrm Plys'].apply(lambda x: x.rolling(3).mean())\nall_df['3Y-1st/G'] = all_df.groupby('Team')['1st/G'].apply(lambda x: x.rolling(3).mean())\nall_df['3Y-3rd Pct'] = all_df.groupby('Team')['3rd Pct'].apply(lambda x: x.rolling(3).mean())\nall_df['3Y-TO'] = all_df.groupby('Team')['TO'].apply(lambda x: x.rolling(3).mean())\n\n# strip out out current year\nall_df['3Y-Scrm Plys'] = (all_df['3Y-Scrm Plys']*3 - all_df['Scrm Plys']) / 2\nall_df['3Y-1st/G'] = (all_df['3Y-1st/G']*3 - all_df['1st/G']) / 2\nall_df['3Y-3rd Pct'] = (all_df['3Y-3rd Pct']*3 - all_df['3rd Pct']) / 2\nall_df['3Y-TO'] = (all_df['3Y-TO']*3 - all_df['TO']) / 2"
        }, 
        {
            "execution_count": 8, 
            "cell_type": "code", 
            "metadata": {}, 
            "outputs": [], 
            "source": "# nfl_seasons['ToP/G'] = pd.to_datetime(nfl_seasons['ToP/G'], format='%M:%S')\n# nfl_seasons['3Y-ToP/G'] = nfl_seasons.groupby('Team')['ToP/G'].apply(lambda x: x.rolling(3).mean())\n\n    # not bothering\n    # NotImplementedError: ops for Rolling for this dtype datetime64[ns] are not implemented    "
        }, 
        {
            "execution_count": 9, 
            "cell_type": "code", 
            "metadata": {}, 
            "outputs": [], 
            "source": "# For classification\n# Refine the problem for a multiclassifier of tier of player\n#\t\ttop 5 players: 0\n#\t\ttop 6-10: 1\n#\t\ttop 11-15: 2\n#\t\tRest: 3\n\n# Get the rank by position for the year\nall_df['player_rank'] = all_df.groupby(['FantPos','Year'])['Fantasy-FantPt'].rank(ascending=False)"
        }, 
        {
            "execution_count": 10, 
            "cell_type": "code", 
            "metadata": {}, 
            "outputs": [], 
            "source": "def get_tier(rank):\n    if rank <=5:\n        return 0\n    if rank <=10:\n        return 1\n    if rank <=15:\n        return 2\n    else:\n        return 3\n    \nall_df['player_tier'] = all_df.player_rank.apply(lambda x: get_tier(x))"
        }, 
        {
            "execution_count": 11, 
            "cell_type": "code", 
            "metadata": {}, 
            "outputs": [], 
            "source": "# get the attempts per postion\n# {QB: throws, RB: rushes, WR: receptions, TE: receptions}\ndef get_posn_attempts(df_row):\n    if df_row.FantPos == 'QB':\n        return df_row['3Y-Passing-Att']\n    if df_row.FantPos == 'RB':\n        return df_row['3Y-Rushing-Att']\n    if df_row.FantPos == 'WR':\n        return df_row['3Y-Receiving-Tgt']\n    if df_row.FantPos == 'TE':\n        return df_row['3Y-Receiving-Tgt']\n    else:\n        return 0"
        }, 
        {
            "execution_count": 12, 
            "cell_type": "code", 
            "metadata": {}, 
            "outputs": [], 
            "source": "all_df['posn_attempts'] = all_df.apply(lambda x: get_posn_attempts(x), axis=1)"
        }, 
        {
            "execution_count": 13, 
            "cell_type": "code", 
            "metadata": {}, 
            "outputs": [
                {
                    "execution_count": 13, 
                    "metadata": {}, 
                    "data": {
                        "text/plain": "Index(['Unnamed: 0', 'Year', 'Accolades', 'Rk_x', 'Player', 'Tm', 'FantPos',\n       'Age', 'G_x', 'GS', 'Passing-Cmp', 'Passing-Att', 'Passing-Yds',\n       'Passing-TD', 'Passing-Int', 'Rushing-Att', 'Rushing-Yds',\n       'Rushing-Y/A', 'Rushing-TD', 'Receiving-Tgt', 'Receiving-Rec',\n       'Receiving-Yds', 'Receiving-Y/R', 'Receiving-TD', 'Fumbles-Fmb',\n       'Fumbles-FL', 'Scoring-TD', 'Scoring-2PM', 'Scoring-2PP',\n       'Fantasy-FantPt', 'Fantasy-PPR', 'Fantasy-DKPt', 'Fantasy-FDPt',\n       'Fantasy-VBD', 'Fantasy-PosRank', 'Fantasy-OvRank', 'Year_DT', 'Rk_y',\n       'Team', 'Team_Short', 'G_y', 'Pts/G', 'TotPts', 'Scrm Plys', 'Yds/G',\n       'Yds/P', '1st/G', '3rd Md', '3rd Att', '3rd Pct', '4th Md', '4th Att',\n       '4th Pct', 'Pen', 'Pen Yds', 'ToP/G', 'FUM', 'Lost', 'TO',\n       '3Y-Passing-Att', '3Y-Rushing-Att', '3Y-Receiving-Tgt',\n       '3Y-Fantasy-FantPt', 'FP_above_next_at_posn', '3Y-FP_over',\n       'Age_into_season', '3Y-Scrm Plys', '3Y-1st/G', '3Y-3rd Pct', '3Y-TO',\n       'player_rank', 'player_tier', 'posn_attempts'],\n      dtype='object')"
                    }, 
                    "output_type": "execute_result"
                }
            ], 
            "source": "all_df.columns"
        }, 
        {
            "execution_count": 14, 
            "cell_type": "code", 
            "metadata": {}, 
            "outputs": [], 
            "source": "all_df.to_csv(r'pfr_nfl_w_features.csv', index=False)"
        }, 
        {
            "source": "## Data Cleaning\n***", 
            "cell_type": "markdown", 
            "metadata": {}
        }, 
        {
            "source": "From the assignment page (https://www.coursera.org/learn/advanced-data-science-capstone/supplement/HJHBm/data-cleansing):\n\nThe following none exhaustive list gives you some guidelines:\n\n\u00b7 Data types Are data types of columns matching their content? E.g. is age stored as integer and not as string?\n<br><font color=blue>I have extracted only the fields I think are relevant.  Each of those fields are cast to the appropriate type</font>\n\n\u00b7 Ranges Does the value distribution of values in a column make sense? Use stats (e.g. min, max, mean, standard deviation) and visualizations (e.g. box-plot, histogram) for help\n<br><font color=blue>I have checked fantasy points and spot checked some of the other fields</font>\n\n\u00b7 Emptiness Are all values non-null where mandatory? E.g. client IDs\n<br><font color=blue>I have filtered out null values</font>\n\n\u00b7 Uniqueness Are duplicates present where undesired? E.g. client IDs\n<br><font color=blue>Each player and year row is unique</font>\n\n\u00b7 Set memberships Are only allowed values chosen for categorical or ordinal fields? E.g. Female, Male, Unknown\n<br><font color=blue>Fantasy Position is categorical, all others are continuous ordinal fields</font>\n\n\u00b7 Foreign key set memberships Are only allowed values chosen as field? E.g. ZIP code\n<br><font color=blue>All numeric fields are coerced to float and nulls are then filtered out</font>\n\n\u00b7 Regular expressions Some files need to stick to a pattern expressed by a regular expression. E.g. a lower-case character followed by 6 digits\n<br><font color=blue>N/A.  All data in each dataset comes from one file</font>\n\n\u00b7 Cross-field validation Some fields can impact validity of other fields. E.g. a male person can\u2019t be pregnant \n<br><font color=blue>Yes, RB have predominantly rushing stats, QBs passing stats, WR receiving stats</font>", 
            "cell_type": "markdown", 
            "metadata": {}
        }, 
        {
            "source": "Some initial data cleaning has already been covered in the YahooFF.data_exp.python.v1.py module.  More checks will be performed here to ensure all data are in the correct format", 
            "cell_type": "markdown", 
            "metadata": {}
        }, 
        {
            "execution_count": 14, 
            "cell_type": "code", 
            "metadata": {}, 
            "outputs": [], 
            "source": "sdf = (spark.read.format(\"csv\").options(header=\"true\").load(\"pfr_nfl_w_features.csv\"))\nrdd = sdf.rdd\nsdf.createOrReplaceTempView(\"sdf\")"
        }, 
        {
            "execution_count": 15, 
            "cell_type": "code", 
            "metadata": {}, 
            "outputs": [], 
            "source": "# Update Types\nsdf = spark.sql('''\nSELECT cast(Year as int) Year, Player, Tm, FantPos,\ncast(`3Y-Passing-Att` as float) `3Y-Passing-Att`,\ncast(`3Y-Rushing-Att` as float) `3Y-Rushing-Att`,\ncast(`3Y-Receiving-Tgt` as float) `3Y-Receiving-Tgt`,\ncast(`3Y-Fantasy-FantPt` as float) `3Y-Fantasy-FantPt`,\ncast(`3Y-FP_over` as float) `3Y-FP_over`,\ncast(`3Y-Scrm Plys` as float) `3Y-Scrm_Plys`,\ncast(`3Y-1st/G` as float) `3Y-1st/G`,\ncast(`3Y-3rd Pct` as float) `3Y-3rd_Pct`,\ncast(`3Y-TO` as float) `3Y-TO`,\ncast(`player_tier` as float) `player_tier`,\ncast(`posn_attempts` as float) `player_attempts`,\ncast(`Fantasy-FantPt` as float) `Fantasy-FantPt`,\ncast(`Age_into_season` as float) `Age_into_season`\nFROM sdf\nWHERE `3Y-Passing-Att` is not null\nAND `3Y-Rushing-Att` is not null\nAND `3Y-Receiving-Tgt` is not null\nAND `3Y-Fantasy-FantPt` is not null\nAND `3Y-FP_over` is not null\nAND `3Y-Scrm Plys` is not null\nAND `3Y-1st/G` is not null\nAND `3Y-3rd Pct` is not null\nAND `3Y-TO` is not null\nAND `player_tier` is not null\nAND `posn_attempts` is not null\nAND `Age_into_season` is not null\n''')\nsdf.createOrReplaceTempView(\"sdf\")"
        }, 
        {
            "source": "## Create normalized field by group", 
            "cell_type": "markdown", 
            "metadata": {}
        }, 
        {
            "source": "It is not possible to use group by with pyspark minmaxscaler. So we replicate this with a SQL call\n\nhttps://stackoverflow.com/questions/50043101/spark-minmaxscaler-on-dataframe", 
            "cell_type": "markdown", 
            "metadata": {}
        }, 
        {
            "execution_count": 16, 
            "cell_type": "code", 
            "metadata": {}, 
            "outputs": [], 
            "source": "# Create a table with min and max values for attempts per position in a given year.  To be used for normalization\nnorm_df = spark.sql('''\nSELECT FantPos AS FantPos2, cast(Year as int) Year2, min(player_attempts) AS norm_min, max(player_attempts) AS norm_max\nFROM sdf\nGROUP BY FantPos, Year\n''')\nnorm_df.createOrReplaceTempView(\"norm_df\")"
        }, 
        {
            "execution_count": 17, 
            "cell_type": "code", 
            "metadata": {}, 
            "outputs": [
                {
                    "output_type": "stream", 
                    "name": "stdout", 
                    "text": "+--------+-----+--------+--------+\n|FantPos2|Year2|norm_min|norm_max|\n+--------+-----+--------+--------+\n|      RB| 2016|     0.0|   392.0|\n|      RB| 2015|     1.5|   313.0|\n|      RB| 2011|     0.0|   337.0|\n|      TE| 2009|    63.0|   154.0|\n|      QB| 2010|   186.0|   585.5|\n|      WR| 2013|    50.5|   181.0|\n|      QB| 2011|   179.0|   586.0|\n|      WR| 2012|    59.5|   179.5|\n|      TE| 2016|    38.0|   131.0|\n|      WR| 2015|    44.5|   174.0|\n|      RB| 2017|     1.0|   342.5|\n|      QB| 2012|   221.0|   657.5|\n|      WR| 2014|    50.5|   180.0|\n|      QB| 2007|   204.5|   539.5|\n|      QB| 2015|   164.5|   654.5|\n|      TE| 2008|    51.0|   134.0|\n|      RB| 2010|    77.0|   338.5|\n|      QB| 2016|   204.0|   659.0|\n|      WR| 2011|    59.0|   172.0|\n|      RB| 2014|    50.5|   308.0|\n+--------+-----+--------+--------+\nonly showing top 20 rows\n\n"
                }
            ], 
            "source": "norm_df.show()"
        }, 
        {
            "execution_count": 18, 
            "cell_type": "code", 
            "metadata": {
                "scrolled": false
            }, 
            "outputs": [
                {
                    "output_type": "stream", 
                    "name": "stdout", 
                    "text": "+--------+--------+----+-----------------+---+-------+--------------+--------------+----------------+-----------------+----------+------------+--------+----------+-----+-----------+---------------+--------------+---------------+\n|norm_min|norm_max|Year|           Player| Tm|FantPos|3Y-Passing-Att|3Y-Rushing-Att|3Y-Receiving-Tgt|3Y-Fantasy-FantPt|3Y-FP_over|3Y-Scrm_Plys|3Y-1st/G|3Y-3rd_Pct|3Y-TO|player_tier|player_attempts|Fantasy-FantPt|Age_into_season|\n+--------+--------+----+-----------------+---+-------+--------------+--------------+----------------+-----------------+----------+------------+--------+----------+-----+-----------+---------------+--------------+---------------+\n|     0.0|   392.0|2016|       Matt Jones|WAS|     RB|           0.0|           0.0|            78.5|             72.0| 2.3333333|      1009.0|    21.6|      45.0|  0.0|        3.0|            0.0|          67.0|           24.0|\n|     0.0|   392.0|2016|      Doug Martin| TB|     RB|           0.0|         134.0|            20.0|             68.0| 1.3333334|      1066.0|    21.2|      44.0|  2.0|        3.0|          134.0|          72.0|      25.666666|\n|     0.0|   392.0|2016|      Chris Ivory|JAX|     RB|           0.0|         198.0|            27.0|            134.0| 1.3333334|      1052.0|    20.1|      35.0|-16.0|        3.0|          198.0|          75.0|      26.666666|\n|     0.0|   392.0|2016| Jacquizz Rodgers| TB|     RB|           0.0|          58.0|            40.0|             53.0| 2.3333333|      1066.0|    21.2|      44.0|  2.0|        3.0|           58.0|          78.0|      24.666666|\n|     0.0|   392.0|2016|    Robert Turbin|IND|     RB|           0.0|          74.0|            20.0|             60.0| 1.3333334|      1037.0|    21.9|      43.0| -5.0|        3.0|           74.0|          82.0|      25.666666|\n|     0.0|   392.0|2016|  Giovani Bernard|CIN|     RB|           0.0|         168.0|            59.0|            145.0| 7.6666665|      1050.0|    21.3|      39.0|  3.0|        3.0|          168.0|          83.0|      23.666666|\n|     0.0|   392.0|2016|DeAngelo Williams|PIT|     RB|           0.0|         187.0|            28.0|            134.0| 5.3333335|      1026.0|    21.0|      41.0|  5.0|        3.0|          187.0|          84.0|      30.666666|\n|     0.0|   392.0|2016|    C.J. Anderson|DEN|     RB|           0.0|         179.0|            44.0|            177.0|       4.0|      1020.0|    18.1|      34.0|  2.0|        3.0|          179.0|          87.0|      23.666666|\n|     0.0|   392.0|2016|      Matt Asiata|MIN|     RB|           0.0|         164.0|            63.0|            150.0| 1.3333334|      1006.0|    18.9|      38.0| 11.0|        3.0|          164.0|         101.0|      27.666666|\n|     0.0|   392.0|2016|  Rashad Jennings|NYG|     RB|           0.0|         167.0|            41.0|            109.0| 0.6666667|      1018.0|    18.1|      36.0| -2.0|        3.0|          167.0|         103.0|      29.666666|\n|     0.0|   392.0|2016|  Jerick McKinnon|MIN|     RB|           0.0|         113.0|            41.0|             67.0|       1.0|      1006.0|    18.9|      38.0| 11.0|        3.0|          113.0|         107.0|      22.666666|\n|     0.0|   392.0|2016|    Tim Hightower| NO|     RB|           0.0|         118.5|            28.5|             84.5|       4.0|      1105.0|    24.7|      49.0| -3.0|        3.0|          118.5|         107.0|      26.333334|\n|     0.0|   392.0|2016|     Theo Riddick|DET|     RB|           0.0|          20.0|            50.0|             61.0| 1.3333334|       981.0|    20.6|      43.0| -1.0|        3.0|           20.0|         109.0|      23.666666|\n|     0.0|   392.0|2016|   Darren Sproles|PHI|     RB|           0.0|          57.0|            62.0|            106.0| 3.3333333|      1080.0|    20.8|      38.0|  6.0|        3.0|           57.0|         111.0|      31.666666|\n|     0.0|   392.0|2016|     Ryan Mathews|PHI|     RB|           0.0|          74.0|            10.0|             58.0| 4.3333335|      1091.0|    21.0|      39.0|  0.5|        3.0|           74.0|         132.0|      27.666666|\n|     0.0|   392.0|2016|    Terrance West|BAL|     RB|           0.0|         171.0|            13.0|            102.0| 3.6666667|      1083.0|    20.2|      38.0|-14.0|        3.0|          171.0|         137.0|      23.666666|\n|     0.0|   392.0|2016| Jonathan Stewart|CAR|     RB|           0.0|         175.0|            31.0|            121.0| 1.6666666|      1052.0|    19.9|      37.0| -2.0|        3.0|          175.0|         138.0|      27.666666|\n|     0.0|   392.0|2016|       Matt Forte|NYJ|     RB|           0.0|         266.0|           130.0|            245.0| 11.333333|      1074.0|    20.6|      41.0|  6.0|        3.0|          266.0|         154.0|      29.666666|\n|     0.0|   392.0|2016|      Jeremy Hill|CIN|     RB|           0.0|         222.0|            32.0|            184.0| 4.6666665|      1004.0|    20.2|      40.0| 11.0|        3.0|          222.0|         155.0|      22.666666|\n|     0.0|   392.0|2016|     Lamar Miller|HOU|     RB|           0.0|         216.0|            52.0|            185.0| 0.6666667|      1127.0|    20.9|      39.0|  5.0|        3.0|          216.0|         160.0|      23.666666|\n+--------+--------+----+-----------------+---+-------+--------------+--------------+----------------+-----------------+----------+------------+--------+----------+-----+-----------+---------------+--------------+---------------+\nonly showing top 20 rows\n\n"
                }
            ], 
            "source": "sdf = spark.sql('''\nSELECT * FROM norm_df\nLEFT JOIN sdf\nON (norm_df.FantPos2 = sdf.FantPos AND norm_df.Year2 = sdf.Year)\n''')\nsdf = sdf.drop('FantPos2').drop('Year2')\nsdf.show()"
        }, 
        {
            "execution_count": 19, 
            "cell_type": "code", 
            "metadata": {}, 
            "outputs": [], 
            "source": "# using rdd function for column manipulation, easier than with SQL\n# center start of range to zero\nsdf = sdf.withColumn(\"player_att_norm\", (sdf[\"player_attempts\"]-sdf[\"norm_min\"])/(sdf[\"norm_max\"]-sdf[\"norm_min\"]))"
        }, 
        {
            "source": "**Iteration 4**\n\nThis creates a min and max for each position for each field, and where the player falls from a scale from zero to one. <br>\nThis creates a distribution around the position average score and assigns the player a z-score based on his points relative to that distribution for the year\n\nThis essentially does what I did manually in feature_eng.python.v1 with player attempts but wraps it in a function so I can loop over many fields", 
            "cell_type": "markdown", 
            "metadata": {}
        }, 
        {
            "execution_count": 1, 
            "cell_type": "code", 
            "metadata": {}, 
            "outputs": [], 
            "source": "# load the csv file with the current progress.\nsdf = (spark.read.format(\"csv\").options(header=\"true\").load(\"pfr_nfl_w_features_2.csv\"))\nsdf.createOrReplaceTempView(\"sdf\")"
        }, 
        {
            "execution_count": 20, 
            "cell_type": "code", 
            "metadata": {}, 
            "outputs": [], 
            "source": "# fields to generate a normalized feature for and for which positions they are relevant\n\nfields_to_use = [\"3Y-Passing-Att\",\n                \"3Y-Rushing-Att\",\n                \"3Y-Receiving-Tgt\",\n                \"3Y-Fantasy-FantPt\",\n                \"3Y-FP_over\",\n                \"3Y-Scrm_Plys\",\n                \"3Y-1st/G\",\n                \"3Y-3rd_Pct\",\n                \"3Y-TO\",                \n                \"player_attempts\",\n                \"Fantasy-FantPt\",\n                \"Age_into_season\"]\n\nfor_posn = [['QB'],\n            ['RB'],\n            ['WR', 'TE'],\n            ['QB', 'WR', 'TE', 'RB'],\n            ['QB', 'WR', 'TE', 'RB'],\n            ['QB', 'WR', 'TE', 'RB'],\n            ['QB', 'WR', 'TE', 'RB'],\n            ['QB', 'WR', 'TE', 'RB'],\n            ['QB', 'WR', 'TE', 'RB'],\n            ['QB', 'WR', 'TE', 'RB'],\n            ['QB', 'WR', 'TE', 'RB'],\n            ['QB', 'WR', 'TE', 'RB'],\n            ['QB', 'WR', 'TE', 'RB']]"
        }, 
        {
            "execution_count": 21, 
            "cell_type": "code", 
            "metadata": {}, 
            "outputs": [], 
            "source": "from pyspark.sql.functions import when\nimport datetime as dt"
        }, 
        {
            "execution_count": 22, 
            "cell_type": "code", 
            "metadata": {}, 
            "outputs": [], 
            "source": "import pdb"
        }, 
        {
            "execution_count": 23, 
            "cell_type": "code", 
            "metadata": {}, 
            "outputs": [], 
            "source": "def feature_creation(field, func1, func2, relevant_posn, sdf):\n    # creates extra variables to use to normalize a players stats for his position and season    \n    # relevant_posn is a list of relevant positions\n    norm_df = spark.sql('''\n        SELECT FantPos AS FantPos2, cast(Year as int) Year2, {1}(`{0}`) AS `{0}_{1}`, {2}(`{0}`) AS `{0}_{2}`\n        FROM sdf\n        GROUP BY FantPos, Year\n        '''.format(field, func1, func2))\n    # zeros out the stat for non-relevant position.  i.e. don't wnat the WR that passed once in the season on a trick play to have an impact\n    norm_df = norm_df.withColumn('{0}_{2}'.format(field, func1, func2), when(norm_df.FantPos2.isin(relevant_posn),norm_df['{0}_{2}'.format(field, func1, func2)]).otherwise(0))\n    norm_df.createOrReplaceTempView(\"norm_df\") # this is now available to query with SQL\n    \n    sdf = spark.sql('''\n        SELECT * FROM norm_df\n        LEFT JOIN sdf\n        ON (norm_df.FantPos2 = sdf.FantPos AND norm_df.Year2 = sdf.Year)\n        ''')\n    sdf = sdf.drop('FantPos2').drop('Year2')    \n    \n    # calculate normalized value for the field relative to other players    \n    if func1 == 'min':\n        # for normalized values between min and max\n        # (val-min) / (max-min)\n        #pdb.set_trace()\n        sdf = sdf.withColumn('{0}_minmax'.format(field, func1, func2),\n                             (sdf[field]-sdf['{0}_{1}'.format(field, func1, func2)])\n                             / (sdf['{0}_{2}'.format(field, func1, func2)]-sdf['{0}_{1}'.format(field, func1, func2)]))\n        sdf = sdf.na.fill({'{0}_minmax'.format(field):0})\n    elif func1 == 'mean':\n        # for values in standard deviation terms\n        # (val-mean)/std\n        sdf = sdf.withColumn('{0}_zscore'.format(field, func1, func2),\n                             (sdf[field]-sdf['{0}_{1}'.format(field, func1, func2)]) / sdf['{0}_{2}'.format(field, func1, func2)])\n        sdf = sdf.na.fill({'{0}_zscore'.format(field):0})\n    \n    #pdb.set_trace()\n    sdf.createOrReplaceTempView(\"sdf\")  # so sdf is updated in the global namespace too.  can use in loop\n    print('{3}: Calculated {1}{2} for {0}.  sdf has {4} columns.'.format(field, func1, func2, dt.datetime.now(), len(sdf.columns)))\n    return sdf\n    "
        }, 
        {
            "execution_count": 24, 
            "cell_type": "code", 
            "metadata": {}, 
            "outputs": [
                {
                    "output_type": "stream", 
                    "name": "stdout", 
                    "text": "2018-12-28 20:14:29.347757: Calculated meanstd for 3Y-Passing-Att.  sdf has 20 columns.\n2018-12-28 20:14:29.448874: Calculated meanstd for 3Y-Rushing-Att.  sdf has 23 columns.\n2018-12-28 20:14:29.590848: Calculated meanstd for 3Y-Receiving-Tgt.  sdf has 26 columns.\n2018-12-28 20:14:29.821536: Calculated meanstd for 3Y-Fantasy-FantPt.  sdf has 29 columns.\n2018-12-28 20:14:30.197260: Calculated meanstd for 3Y-FP_over.  sdf has 32 columns.\n2018-12-28 20:14:30.884424: Calculated meanstd for 3Y-Scrm_Plys.  sdf has 35 columns.\n2018-12-28 20:14:32.139416: Calculated meanstd for 3Y-1st/G.  sdf has 38 columns.\n2018-12-28 20:14:34.527292: Calculated meanstd for 3Y-3rd_Pct.  sdf has 41 columns.\n2018-12-28 20:14:39.236741: Calculated meanstd for 3Y-TO.  sdf has 44 columns.\n2018-12-28 20:14:48.713739: Calculated meanstd for player_attempts.  sdf has 47 columns.\n2018-12-28 20:15:07.234124: Calculated meanstd for Fantasy-FantPt.  sdf has 50 columns.\n2018-12-28 20:15:43.822874: Calculated meanstd for Age_into_season.  sdf has 53 columns.\n"
                }
            ], 
            "source": "# create features for each of the fields.  zero out the feature for positions that it's not relevant.\nfor f, p in zip(fields_to_use, for_posn):\n    #sdf = feature_creation(f, 'min', 'max', p)\n    sdf = feature_creation(f, 'mean', 'std', p, sdf)"
        }, 
        {
            "source": "Interestingly, this operation gets very slow after a few iterations.  There is some inefficiency here, maybe around continually createOrReplaceTempView the sdf?  There are some instances where I have gotten an out of memory error or the spark session just ends.\n\nI had to run restart the kernel and run just these lines of code specifically.", 
            "cell_type": "markdown", 
            "metadata": {}
        }, 
        {
            "execution_count": 26, 
            "cell_type": "code", 
            "metadata": {}, 
            "outputs": [], 
            "source": "try:\n    sdf = sdf.drop(sdf['_c0'])  # joining the table in iterations (which is what I did at first) produces this bogus field\nexcept:\n    pass"
        }, 
        {
            "execution_count": 25, 
            "cell_type": "code", 
            "metadata": {}, 
            "outputs": [], 
            "source": "sdf.toPandas().to_csv(r'pfr_nfl_w_features_2.csv')"
        }, 
        {
            "execution_count": 27, 
            "cell_type": "code", 
            "metadata": {}, 
            "outputs": [], 
            "source": "# Save a version before the features get encoded\nsdf.write.parquet(\"ff_df_encoded_normalized.parquet\", mode='overwrite')"
        }, 
        {
            "source": "## Prepare the pipeline to encode data", 
            "cell_type": "markdown", 
            "metadata": {}
        }, 
        {
            "execution_count": 11, 
            "cell_type": "code", 
            "metadata": {}, 
            "outputs": [], 
            "source": "from pyspark.sql import SparkSession\nspark = SparkSession.builder.getOrCreate()"
        }, 
        {
            "execution_count": 12, 
            "cell_type": "code", 
            "metadata": {}, 
            "outputs": [], 
            "source": "#Load sdf from parquet file.  Start from this point if spark gets shut down, or you get an out of memory error, etc\nsdf = spark.read.parquet('ff_df_encoded_normalized.parquet')\nsdf.createOrReplaceTempView(\"sdf\")"
        }, 
        {
            "execution_count": 13, 
            "cell_type": "code", 
            "metadata": {}, 
            "outputs": [], 
            "source": "from pyspark.ml import Pipeline\nfrom pyspark.ml.feature import OneHotEncoder, StringIndexer, VectorAssembler"
        }, 
        {
            "execution_count": 14, 
            "cell_type": "code", 
            "metadata": {}, 
            "outputs": [], 
            "source": "# if you have to restart the pipeline\ntry:\n    del(stages)\nexcept:\n    pass"
        }, 
        {
            "execution_count": 15, 
            "cell_type": "code", 
            "metadata": {}, 
            "outputs": [], 
            "source": "# categoricalColumns = [\"Player\", \"Tm\", \"FantPos\"]\ncategoricalColumns = [\"FantPos\"]\nstages = [] # stages in our Pipeline\nfor categoricalCol in categoricalColumns:\n    # Category Indexing with StringIndexer\n    stringIndexer = StringIndexer(inputCol=categoricalCol, outputCol=categoricalCol + \"Index\")\n    # Use OneHotEncoder to convert categorical variables into binary SparseVectors\n    # encoder = OneHotEncoder(inputCol=categoricalCol + \"Index\", outputCol=categoricalCol + \"classVec\")\n    encoder = OneHotEncoder(inputCol=categoricalCol + \"Index\", outputCol=categoricalCol + \"classVec\")\n    # Add stages.  These are not run here, but will run all at once later on.\n    stages += [stringIndexer, encoder]"
        }, 
        {
            "execution_count": 16, 
            "cell_type": "code", 
            "metadata": {}, 
            "outputs": [], 
            "source": "# Convert label into label indices using the StringIndexer\nlabel_stringIdx = StringIndexer(inputCol=\"player_tier\", outputCol=\"label\")\nstages += [label_stringIdx]"
        }, 
        {
            "source": "Get all features into a features vector. <br>\nFor the first pass, I had used receiving, rushing, and passing atttempts from prior years <br>\nFor the second pass, I also added a fantasy point difference over the next closest player from prior years <br>", 
            "cell_type": "markdown", 
            "metadata": {}
        }, 
        {
            "execution_count": 17, 
            "cell_type": "code", 
            "metadata": {}, 
            "outputs": [], 
            "source": "# Transform all features into a vector using VectorAssembler\nnumericCols = ['3Y-Passing-Att','3Y-Rushing-Att','3Y-Receiving-Tgt','3Y-Fantasy-FantPt','3Y-Scrm_Plys','3Y-1st/G','3Y-3rd_Pct','3Y-TO','Age_into_season',\n               '3Y-Passing-Att_zscore','3Y-Rushing-Att_zscore','3Y-Receiving-Tgt_zscore','3Y-Fantasy-FantPt_zscore','3Y-FP_over_zscore','3Y-Scrm_Plys_zscore','3Y-1st/G_zscore',\n               '3Y-3rd_Pct_zscore','3Y-TO_zscore','player_attempts_zscore','Fantasy-FantPt_zscore','Age_into_season_zscore']\nassemblerInputs = [c + \"classVec\" for c in categoricalColumns] + numericCols\nassembler = VectorAssembler(inputCols=assemblerInputs, outputCol=\"features\")\nstages += [assembler]"
        }, 
        {
            "execution_count": 18, 
            "cell_type": "code", 
            "metadata": {}, 
            "outputs": [
                {
                    "execution_count": 18, 
                    "metadata": {}, 
                    "data": {
                        "text/plain": "[StringIndexer_4ae5a60d50019d8476b7,\n OneHotEncoder_4a71af2e4cd0a36f0600,\n StringIndexer_4320996c4b7483e6a408,\n VectorAssembler_4060bb4e7031c7d91c5c]"
                    }, 
                    "output_type": "execute_result"
                }
            ], 
            "source": "partialPipeline = Pipeline().setStages(stages)\n\npartialPipeline.getStages()"
        }, 
        {
            "execution_count": 19, 
            "cell_type": "code", 
            "metadata": {}, 
            "outputs": [], 
            "source": "pipelineModel = partialPipeline.fit(sdf)"
        }, 
        {
            "execution_count": 20, 
            "cell_type": "code", 
            "metadata": {}, 
            "outputs": [], 
            "source": "preppedDataDF = pipelineModel.transform(sdf)\npreppedDataDF.createOrReplaceTempView(\"preppedDataDF\")"
        }, 
        {
            "execution_count": 21, 
            "cell_type": "code", 
            "metadata": {
                "collapsed": true
            }, 
            "outputs": [
                {
                    "output_type": "stream", 
                    "name": "stdout", 
                    "text": "+--------------------+-------------------+-------------------+------------------+--------------------+-------------------+-------------------+------------------+------------------+-----------------+-----------------+------------------+------------------+-----------------+-----------------+------------------+----------------------+---------------------+---------------------+--------------------+-------------------+------------------+--------------------+------------------+----+----------------+---+-------+--------------+--------------+----------------+-----------------+----------+------------+--------+----------+-----+-----------+---------------+--------------+---------------+---------------------+---------------------+-----------------------+------------------------+--------------------+--------------------+--------------------+-------------------+-------------------+----------------------+---------------------+----------------------+------------+---------------+-----+--------------------+\n|Age_into_season_mean|Age_into_season_std|Fantasy-FantPt_mean|Fantasy-FantPt_std|player_attempts_mean|player_attempts_std|         3Y-TO_mean|         3Y-TO_std|   3Y-3rd_Pct_mean|   3Y-3rd_Pct_std|    3Y-1st/G_mean|      3Y-1st/G_std| 3Y-Scrm_Plys_mean| 3Y-Scrm_Plys_std|  3Y-FP_over_mean|    3Y-FP_over_std|3Y-Fantasy-FantPt_mean|3Y-Fantasy-FantPt_std|3Y-Receiving-Tgt_mean|3Y-Receiving-Tgt_std|3Y-Rushing-Att_mean|3Y-Rushing-Att_std| 3Y-Passing-Att_mean|3Y-Passing-Att_std|Year|          Player| Tm|FantPos|3Y-Passing-Att|3Y-Rushing-Att|3Y-Receiving-Tgt|3Y-Fantasy-FantPt|3Y-FP_over|3Y-Scrm_Plys|3Y-1st/G|3Y-3rd_Pct|3Y-TO|player_tier|player_attempts|Fantasy-FantPt|Age_into_season|3Y-Passing-Att_zscore|3Y-Rushing-Att_zscore|3Y-Receiving-Tgt_zscore|3Y-Fantasy-FantPt_zscore|   3Y-FP_over_zscore| 3Y-Scrm_Plys_zscore|     3Y-1st/G_zscore|  3Y-3rd_Pct_zscore|       3Y-TO_zscore|player_attempts_zscore|Fantasy-FantPt_zscore|Age_into_season_zscore|FantPosIndex|FantPosclassVec|label|            features|\n+--------------------+-------------------+-------------------+------------------+--------------------+-------------------+-------------------+------------------+------------------+-----------------+-----------------+------------------+------------------+-----------------+-----------------+------------------+----------------------+---------------------+---------------------+--------------------+-------------------+------------------+--------------------+------------------+----+----------------+---+-------+--------------+--------------+----------------+-----------------+----------+------------+--------+----------+-----+-----------+---------------+--------------+---------------+---------------------+---------------------+-----------------------+------------------------+--------------------+--------------------+--------------------+-------------------+-------------------+----------------------+---------------------+----------------------+------------+---------------+-----+--------------------+\n|  26.528735654107457| 2.2634382308332213| 133.55172413793105| 68.46875523441152|   184.8448275862069|  74.46357012568005|-1.2241379310344827|10.548854209019703|39.758620689655174|4.616779740513271|20.14482780982708|2.4397507651699217|1040.1896551724137|57.05767974369436|4.724137946449477|3.2818270507466427|    144.91379310344828|   51.294678950841984|    47.43103448275862|                 0.0|  184.8448275862069| 74.46357012568005|0.017241379310344827|               0.0|2014|    Shonn Greene|TEN|     RB|           0.0|         176.5|            19.0|            112.0| 1.6666666|       919.0|    16.1|      30.0|-10.0|        3.0|          176.5|          51.0|           28.0|                  0.0| -0.11206590782744422|                    0.0|      -0.641660963215913| -0.9316369425450497| -2.1239849870657737| -1.6578855045776137|-2.1137288842309507|-0.8319256191313931|  -0.11206590782744422|  -1.2056846054131507|    0.6500130314362226|         1.0|  (3,[1],[1.0])|  0.0|[0.0,1.0,0.0,0.0,...|\n|  26.528735654107457| 2.2634382308332213| 133.55172413793105| 68.46875523441152|   184.8448275862069|  74.46357012568005|-1.2241379310344827|10.548854209019703|39.758620689655174|4.616779740513271|20.14482780982708|2.4397507651699217|1040.1896551724137|57.05767974369436|4.724137946449477|3.2818270507466427|    144.91379310344828|   51.294678950841984|    47.43103448275862|                 0.0|  184.8448275862069| 74.46357012568005|0.017241379310344827|               0.0|2014|Jacquizz Rodgers|ATL|     RB|           0.0|          95.0|            61.0|             88.5| 1.3333334|      1035.0|    20.6|      44.0|  5.0|        3.0|           95.0|          53.0|           23.0|                  0.0|  -1.2065608382000255|                    0.0|     -1.0997981517247077| -1.0332063576014092|-0.09095454276665096|  0.1865651926994862| 0.9186878189413666| 0.5900297613092983|   -1.2065608382000255|  -1.1764742014390643|   -1.5590156630024103|         1.0|  (3,[1],[1.0])|  0.0|[0.0,1.0,0.0,0.0,...|\n|  26.528735654107457| 2.2634382308332213| 133.55172413793105| 68.46875523441152|   184.8448275862069|  74.46357012568005|-1.2241379310344827|10.548854209019703|39.758620689655174|4.616779740513271|20.14482780982708|2.4397507651699217|1040.1896551724137|57.05767974369436|4.724137946449477|3.2818270507466427|    144.91379310344828|   51.294678950841984|    47.43103448275862|                 0.0|  184.8448275862069| 74.46357012568005|0.017241379310344827|               0.0|2014|    Ryan Mathews|LAC|     RB|           0.0|         234.5|            44.5|            141.0| 3.6666667|      1009.0|    20.4|      45.0| -5.0|        3.0|          234.5|          58.0|           26.0|                  0.0|   0.6668384597996687|                    0.0|    -0.07630017739654926|-0.32222027058658287| -0.5466337802819716| 0.10458929344179148| 1.1352890120251036|-0.3579404923178292|    0.6668384597996687|  -1.1034481915038485|   -0.2335984463392306|         1.0|  (3,[1],[1.0])|  0.0|[0.0,1.0,0.0,0.0,...|\n|  26.528735654107457| 2.2634382308332213| 133.55172413793105| 68.46875523441152|   184.8448275862069|  74.46357012568005|-1.2241379310344827|10.548854209019703|39.758620689655174|4.616779740513271|20.14482780982708|2.4397507651699217|1040.1896551724137|57.05767974369436|4.724137946449477|3.2818270507466427|    144.91379310344828|   51.294678950841984|    47.43103448275862|                 0.0|  184.8448275862069| 74.46357012568005|0.017241379310344827|               0.0|2014|    James Starks| GB|     RB|           0.0|         111.0|            25.0|             83.5| 1.3333334|      1001.0|    22.2|      47.0| 14.0|        3.0|          111.0|          59.0|      26.666666|                  0.0|  -0.9916906678201322|                    0.0|     -1.1972741492797705| -1.0332063576014092| -0.6868427764405318|  0.8423700414207002| 1.5684913981925774|  1.443202989573713|   -0.9916906678201322|  -1.0888429895168052|   0.06093843202672979|         1.0|  (3,[1],[1.0])|  0.0|[0.0,1.0,0.0,0.0,...|\n|  26.528735654107457| 2.2634382308332213| 133.55172413793105| 68.46875523441152|   184.8448275862069|  74.46357012568005|-1.2241379310344827|10.548854209019703|39.758620689655174|4.616779740513271|20.14482780982708|2.4397507651699217|1040.1896551724137|57.05767974369436|4.724137946449477|3.2818270507466427|    144.91379310344828|   51.294678950841984|    47.43103448275862|                 0.0|  184.8448275862069| 74.46357012568005|0.017241379310344827|               0.0|2014|    Toby Gerhart|JAX|     RB|           0.0|          95.0|            28.5|             75.5|0.33333334|       988.0|    16.9|      32.0| -6.0|        3.0|           95.0|          61.0|      24.666666|                  0.0|  -1.2065608382000255|                    0.0|     -1.3532357453678707|  -1.337914684499627|  -0.914682395198192|  -1.329983471107064|-1.6805264980634766| -0.452737517680542|   -1.2065608382000255|  -1.0596325855427189|   -0.8226730457487234|         1.0|  (3,[1],[1.0])|  0.0|[0.0,1.0,0.0,0.0,...|\n|  26.528735654107457| 2.2634382308332213| 133.55172413793105| 68.46875523441152|   184.8448275862069|  74.46357012568005|-1.2241379310344827|10.548854209019703|39.758620689655174|4.616779740513271|20.14482780982708|2.4397507651699217|1040.1896551724137|57.05767974369436|4.724137946449477|3.2818270507466427|    144.91379310344828|   51.294678950841984|    47.43103448275862|                 0.0|  184.8448275862069| 74.46357012568005|0.017241379310344827|               0.0|2014|     Reggie Bush|DET|     RB|           0.0|         225.0|            66.0|            178.5|       2.0|      1045.0|    19.4|      39.0|  7.0|        3.0|          225.0|          67.0|           28.0|                  0.0|   0.5392592961366072|                    0.0|      0.6547698042664211| -0.8300674911646282| 0.08430670243154928|-0.30528863928645295|-0.1643181464773181| 0.7796238120347238|    0.5392592961366072|  -0.9720013736204599|    0.6500130314362226|         1.0|  (3,[1],[1.0])|  0.0|[0.0,1.0,0.0,0.0,...|\n|  26.528735654107457| 2.2634382308332213| 133.55172413793105| 68.46875523441152|   184.8448275862069|  74.46357012568005|-1.2241379310344827|10.548854209019703|39.758620689655174|4.616779740513271|20.14482780982708|2.4397507651699217|1040.1896551724137|57.05767974369436|4.724137946449477|3.2818270507466427|    144.91379310344828|   51.294678950841984|    47.43103448275862|                 0.0|  184.8448275862069| 74.46357012568005|0.017241379310344827|               0.0|2014|     Doug Martin| TB|     RB|           0.0|         223.0|            47.0|            159.5|       1.0|       936.0|    16.4|      37.0| -8.0|        3.0|          223.0|          68.0|           24.0|                  0.0|   0.5124005248391205|                    0.0|      0.2843610135571828| -1.1347758089818307| -1.8260408702288333|  -1.534922437471186| -0.597520532644792|-0.6423315684059675|    0.5124005248391205|  -0.9573961716334167|   -1.1172099241146838|         1.0|  (3,[1],[1.0])|  0.0|[0.0,1.0,0.0,0.0,...|\n|  26.528735654107457| 2.2634382308332213| 133.55172413793105| 68.46875523441152|   184.8448275862069|  74.46357012568005|-1.2241379310344827|10.548854209019703|39.758620689655174|4.616779740513271|20.14482780982708|2.4397507651699217|1040.1896551724137|57.05767974369436|4.724137946449477|3.2818270507466427|    144.91379310344828|   51.294678950841984|    47.43103448275862|                 0.0|  184.8448275862069| 74.46357012568005|0.017241379310344827|               0.0|2014|   Pierre Thomas| NO|     RB|           0.0|         126.0|            68.5|            115.5|       6.0|      1095.0|    24.7|      48.0|-13.0|        3.0|          126.0|          78.0|           29.0|                  0.0|  -0.7902498830889823|                    0.0|     -0.5734277649273691| 0.38876578010418134|  0.9606129284225505|   1.867064873241311| 1.7850925912763143|-1.1163166952195314|   -0.7902498830889823|  -0.8113441517629849|    1.0918187703239493|         1.0|  (3,[1],[1.0])|  0.0|[0.0,1.0,0.0,0.0,...|\n|  26.528735654107457| 2.2634382308332213| 133.55172413793105| 68.46875523441152|   184.8448275862069|  74.46357012568005|-1.2241379310344827|10.548854209019703|39.758620689655174|4.616779740513271|20.14482780982708|2.4397507651699217|1040.1896551724137|57.05767974369436|4.724137946449477|3.2818270507466427|    144.91379310344828|   51.294678950841984|    47.43103448275862|                 0.0|  184.8448275862069| 74.46357012568005|0.017241379310344827|               0.0|2014| Darren McFadden|OAK|     RB|           0.5|         165.0|            44.0|             96.0| 1.3333334|       994.0|    15.5|      34.0|-15.0|        3.0|          165.0|          85.0|           26.0|                  0.0|  -0.2665038427879925|                    0.0|     -0.9535841553921137| -1.0332063576014092|  -0.809525648079272| -1.9038124205705833|-1.2473241118960028|-1.3059107459449568|   -0.2665038427879925|  -0.7091077378536826|   -0.2335984463392306|         1.0|  (3,[1],[1.0])|  0.0|[0.0,1.0,0.0,0.5,...|\n|  26.528735654107457| 2.2634382308332213| 133.55172413793105| 68.46875523441152|   184.8448275862069|  74.46357012568005|-1.2241379310344827|10.548854209019703|39.758620689655174|4.616779740513271|20.14482780982708|2.4397507651699217|1040.1896551724137|57.05767974369436|4.724137946449477|3.2818270507466427|    144.91379310344828|   51.294678950841984|    47.43103448275862|                 0.0|  184.8448275862069| 74.46357012568005|0.017241379310344827|               0.0|2014|Trent Richardson|IND|     RB|           0.0|         227.5|            61.0|            157.0| 4.6666665|      1105.0|    23.2|      41.0| -5.0|        3.0|          227.5|          91.0|           23.0|                  0.0|   0.5728327602584654|                    0.0|     0.23562301477965142|-0.01751202541750...|  1.1358741736207507|  1.2522479741489445| 0.2688842396901558|-0.3579404923178292|    0.5728327602584654|  -0.6214765259314237|   -1.5590156630024103|         1.0|  (3,[1],[1.0])|  0.0|[0.0,1.0,0.0,0.0,...|\n|  26.528735654107457| 2.2634382308332213| 133.55172413793105| 68.46875523441152|   184.8448275862069|  74.46357012568005|-1.2241379310344827|10.548854209019703|39.758620689655174|4.616779740513271|20.14482780982708|2.4397507651699217|1040.1896551724137|57.05767974369436|4.724137946449477|3.2818270507466427|    144.91379310344828|   51.294678950841984|    47.43103448275862|                 0.0|  184.8448275862069| 74.46357012568005|0.017241379310344827|               0.0|2014|   Chris Johnson|NYJ|     RB|           0.0|         277.5|            50.5|            187.0| 4.6666665|      1052.0|    18.1|      39.0|-11.0|        3.0|          277.5|          91.0|           28.0|                  0.0|   1.2443020426956317|                    0.0|      0.8204790001100277|-0.01751202541750...| 0.20698957407028945| -0.8381296391211248|-0.1643181464773181|-0.9267226444941058|    1.2443020426956317|  -0.6214765259314237|    0.6500130314362226|         1.0|  (3,[1],[1.0])|  0.0|[0.0,1.0,0.0,0.0,...|\n|  26.528735654107457| 2.2634382308332213| 133.55172413793105| 68.46875523441152|   184.8448275862069|  74.46357012568005|-1.2241379310344827|10.548854209019703|39.758620689655174|4.616779740513271|20.14482780982708|2.4397507651699217|1040.1896551724137|57.05767974369436|4.724137946449477|3.2818270507466427|    144.91379310344828|   51.294678950841984|    47.43103448275862|                 0.0|  184.8448275862069| 74.46357012568005|0.017241379310344827|               0.0|2014|  Darren Sproles|PHI|     RB|           0.0|          50.5|            96.5|            121.5| 6.3333335|      1127.0|    22.2|      44.0| -8.0|        3.0|           50.5|         106.0|           30.0|                  0.0|  -1.8041684995691034|                    0.0|    -0.45645656786129385|  0.4903352678086649|  1.5214489130567912|  0.8423700414207002| 0.9186878189413666|-0.6423315684059675|   -1.8041684995691034|   -0.402398496125776|    1.5336245092116758|         1.0|  (3,[1],[1.0])|  0.0|[0.0,1.0,0.0,0.0,...|\n|  26.528735654107457| 2.2634382308332213| 133.55172413793105| 68.46875523441152|   184.8448275862069|  74.46357012568005|-1.2241379310344827|10.548854209019703|39.758620689655174|4.616779740513271|20.14482780982708|2.4397507651699217|1040.1896551724137|57.05767974369436|4.724137946449477|3.2818270507466427|    144.91379310344828|   51.294678950841984|    47.43103448275862|                 0.0|  184.8448275862069| 74.46357012568005|0.017241379310344827|               0.0|2014|    Shane Vereen| NE|     RB|           0.0|          53.0|            41.0|             77.0| 1.6666666|      1073.0|    22.6|      44.0| 12.0|        3.0|           53.0|         114.0|           24.0|                  0.0|   -1.770595035447245|                    0.0|      -1.323992946101352| -0.9316369425450497|  0.5750381889865099|   1.006321058155975| 0.9186878189413666| 1.2536089388482876|    -1.770595035447245| -0.28555688022943054|   -1.1172099241146838|         1.0|  (3,[1],[1.0])|  0.0|[0.0,1.0,0.0,0.0,...|\n|  26.528735654107457| 2.2634382308332213| 133.55172413793105| 68.46875523441152|   184.8448275862069|  74.46357012568005|-1.2241379310344827|10.548854209019703|39.758620689655174|4.616779740513271|20.14482780982708|2.4397507651699217|1040.1896551724137|57.05767974369436|4.724137946449477|3.2818270507466427|    144.91379310344828|   51.294678950841984|    47.43103448275862|                 0.0|  184.8448275862069| 74.46357012568005|0.017241379310344827|               0.0|2014|  Ahmad Bradshaw|IND|     RB|           0.0|         196.0|            37.5|            158.5| 2.6666667|      1105.0|    23.2|      41.0| -5.0|        3.0|          196.0|         117.0|      26.333334|                  0.0|  0.14980711232305066|                    0.0|      0.2648658140461702| -0.6269285884037853|  1.1358741736207507|  1.2522479741489445| 0.2688842396901558|-0.3579404923178292|   0.14980711232305066| -0.24174127426830103|  -0.08632958581746437|         1.0|  (3,[1],[1.0])|  0.0|[0.0,1.0,0.0,0.0,...|\n|  26.528735654107457| 2.2634382308332213| 133.55172413793105| 68.46875523441152|   184.8448275862069|  74.46357012568005|-1.2241379310344827|10.548854209019703|39.758620689655174|4.616779740513271|20.14482780982708|2.4397507651699217|1040.1896551724137|57.05767974369436|4.724137946449477|3.2818270507466427|    144.91379310344828|   51.294678950841984|    47.43103448275862|                 0.0|  184.8448275862069| 74.46357012568005|0.017241379310344827|               0.0|2014|Jonathan Stewart|CAR|     RB|           0.0|         117.5|            42.0|            104.0|       4.0|      1060.0|    21.7|      42.0|  3.0|        3.0|          117.5|         121.0|      25.333334|                  0.0|  -0.9043996611033005|                    0.0|     -0.7976225593040134|-0.22065085553022346| 0.34719857022884965|  0.6374310750565779| 0.4854854327738927| 0.4004357105838728|   -0.9043996611033005| -0.18332046632012833|    -0.528135324705191|         1.0|  (3,[1],[1.0])|  0.0|[0.0,1.0,0.0,0.0,...|\n|  26.528735654107457| 2.2634382308332213| 133.55172413793105| 68.46875523441152|   184.8448275862069|  74.46357012568005|-1.2241379310344827|10.548854209019703|39.758620689655174|4.616779740513271|20.14482780982708|2.4397507651699217|1040.1896551724137|57.05767974369436|4.724137946449477|3.2818270507466427|    144.91379310344828|   51.294678950841984|    47.43103448275862|                 0.0|  184.8448275862069| 74.46357012568005|0.017241379310344827|               0.0|2014|  Steven Jackson|ATL|     RB|           0.0|         207.5|            51.0|            139.0| 3.6666667|      1035.0|    20.6|      44.0|  5.0|        3.0|          207.5|         122.0|           30.0|                  0.0|   0.3042450472835989|                    0.0|    -0.11529057641857435|-0.32222027058658287|-0.09095454276665096|  0.1865651926994862| 0.9186878189413666| 0.5900297613092983|    0.3042450472835989| -0.16871526433308515|    1.5336245092116758|         1.0|  (3,[1],[1.0])|  0.0|[0.0,1.0,0.0,0.0,...|\n|  26.528735654107457| 2.2634382308332213| 133.55172413793105| 68.46875523441152|   184.8448275862069|  74.46357012568005|-1.2241379310344827|10.548854209019703|39.758620689655174|4.616779740513271|20.14482780982708|2.4397507651699217|1040.1896551724137|57.05767974369436|4.724137946449477|3.2818270507466427|    144.91379310344828|   51.294678950841984|    47.43103448275862|                 0.0|  184.8448275862069| 74.46357012568005|0.017241379310344827|               0.0|2014|    Fred Jackson|BUF|     RB|           0.0|         160.5|            53.5|            134.5| 1.6666666|      1068.0|   17.95|      35.5|  5.0|        3.0|          160.5|         123.0|           32.0|                  0.0| -0.32693607820733744|                    0.0|    -0.20301897421813078| -0.9316369425450497| 0.48740756638740984| -0.8996111726743385|-0.9224223222703973| 0.5900297613092983|  -0.32693607820733744| -0.15411006234604196|     2.417235986987129|         1.0|  (3,[1],[1.0])|  0.0|[0.0,1.0,0.0,0.0,...|\n|  26.528735654107457| 2.2634382308332213| 133.55172413793105| 68.46875523441152|   184.8448275862069|  74.46357012568005|-1.2241379310344827|10.548854209019703|39.758620689655174|4.616779740513271|20.14482780982708|2.4397507651699217|1040.1896551724137|57.05767974369436|4.724137946449477|3.2818270507466427|    144.91379310344828|   51.294678950841984|    47.43103448275862|                 0.0|  184.8448275862069| 74.46357012568005|0.017241379310344827|               0.0|2014|     Chris Ivory|NYJ|     RB|           0.0|         159.5|             4.0|            102.5| 1.3333334|      1020.0|    17.5|      39.0|-14.0|        3.0|          159.5|         134.0|      24.333334|                  0.0|  -0.3403654638560808|                    0.0|     -0.8268653585705321| -1.0332063576014092|-0.35384641056395133| -1.0840565551140944|-0.1643181464773181| -1.211113720582244|   -0.3403654638560808| 0.006547159511432976|   -0.9699410635929175|         1.0|  (3,[1],[1.0])|  0.0|[0.0,1.0,0.0,0.0,...|\n|  26.528735654107457| 2.2634382308332213| 133.55172413793105| 68.46875523441152|   184.8448275862069|  74.46357012568005|-1.2241379310344827|10.548854209019703|39.758620689655174|4.616779740513271|20.14482780982708|2.4397507651699217|1040.1896551724137|57.05767974369436|4.724137946449477|3.2818270507466427|    144.91379310344828|   51.294678950841984|    47.43103448275862|                 0.0|  184.8448275862069| 74.46357012568005|0.017241379310344827|               0.0|2014|      Frank Gore| SF|     RB|           0.0|         267.0|            31.5|            186.0|  8.666667|       961.0|    17.9|      36.0| 12.0|        3.0|          267.0|         148.0|           30.0|                  0.0|   1.1032934933838268|                    0.0|      0.8009838005990152|  1.2013213911475533| -1.3878877572333328| -0.9201055383788196|-0.8141217257285289| 1.2536089388482876|    1.1032934933838268|  0.21101998733003746|    1.5336245092116758|         1.0|  (3,[1],[1.0])|  0.0|[0.0,1.0,0.0,0.0,...|\n|  26.528735654107457| 2.2634382308332213| 133.55172413793105| 68.46875523441152|   184.8448275862069|  74.46357012568005|-1.2241379310344827|10.548854209019703|39.758620689655174|4.616779740513271|20.14482780982708|2.4397507651699217|1040.1896551724137|57.05767974369436|4.724137946449477|3.2818270507466427|    144.91379310344828|   51.294678950841984|    47.43103448275862|                 0.0|  184.8448275862069| 74.46357012568005|0.017241379310344827|               0.0|2014|     Mark Ingram| NO|     RB|           0.0|         117.0|            10.5|             73.0| 5.6666665|      1087.0|   23.55|      46.0| -6.5|        2.0|          117.0|         163.0|           24.0|                  0.0|  -0.9111143539276721|                    0.0|      -1.401973744145402| 0.28719629239969774|  0.8204039322639903|  1.3957046251797385| 1.3518902051088404|-0.5001360303618984|   -0.9111143539276721|   0.4300980171356851|   -1.1172099241146838|         1.0|  (3,[1],[1.0])|  3.0|[0.0,1.0,0.0,0.0,...|\n+--------------------+-------------------+-------------------+------------------+--------------------+-------------------+-------------------+------------------+------------------+-----------------+-----------------+------------------+------------------+-----------------+-----------------+------------------+----------------------+---------------------+---------------------+--------------------+-------------------+------------------+--------------------+------------------+----+----------------+---+-------+--------------+--------------+----------------+-----------------+----------+------------+--------+----------+-----+-----------+---------------+--------------+---------------+---------------------+---------------------+-----------------------+------------------------+--------------------+--------------------+--------------------+-------------------+-------------------+----------------------+---------------------+----------------------+------------+---------------+-----+--------------------+\nonly showing top 20 rows\n\n"
                }
            ], 
            "source": "preppedDataDF.show()"
        }, 
        {
            "execution_count": 22, 
            "cell_type": "code", 
            "metadata": {}, 
            "outputs": [], 
            "source": "# Save prepared dataframe\npreppedDataDF.write.parquet(\"preppedDataDF.parquet\", mode='overwrite')"
        }
    ], 
    "metadata": {
        "kernelspec": {
            "display_name": "Python 3.5 with Spark 2.1", 
            "name": "python3-spark21", 
            "language": "python"
        }, 
        "language_info": {
            "mimetype": "text/x-python", 
            "nbconvert_exporter": "python", 
            "version": "3.5.4", 
            "name": "python", 
            "file_extension": ".py", 
            "pygments_lexer": "ipython3", 
            "codemirror_mode": {
                "version": 3, 
                "name": "ipython"
            }
        }
    }, 
    "nbformat": 4
}